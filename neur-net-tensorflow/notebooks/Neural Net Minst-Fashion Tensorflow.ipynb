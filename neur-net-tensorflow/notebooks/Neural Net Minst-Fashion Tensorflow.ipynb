{
 "cells": [
  {
   "cell_type": "code",
   "execution_count": 1,
   "metadata": {},
   "outputs": [
    {
     "name": "stdout",
     "output_type": "stream",
     "text": [
      "Extracting input/data/train-images-idx3-ubyte.gz\n",
      "Extracting input/data/train-labels-idx1-ubyte.gz\n",
      "Extracting input/data/t10k-images-idx3-ubyte.gz\n",
      "Extracting input/data/t10k-labels-idx1-ubyte.gz\n",
      "WARNING:tensorflow:From /usr/local/lib/python2.7/dist-packages/tensorflow/python/util/tf_should_use.py:107: initialize_all_variables (from tensorflow.python.ops.variables) is deprecated and will be removed after 2017-03-02.\n",
      "Instructions for updating:\n",
      "Use `tf.global_variables_initializer` instead.\n"
     ]
    }
   ],
   "source": [
    "# all tensorflow api is accessible through this\n",
    "import tensorflow as tf        \n",
    "# to visualize the resutls\n",
    "import matplotlib.pyplot as plt \n",
    "# 70k mnist dataset that comes with the tensorflow container\n",
    "from tensorflow.examples.tutorials.mnist import input_data\n",
    "\n",
    "tf.set_random_seed(0)\n",
    "\n",
    "# load data\n",
    "mnist = input_data.read_data_sets('input/data', one_hot=True)\n",
    "\n",
    "# 1. Define Variables and Placeholders\n",
    "\n",
    "# 2. Define the model\n",
    "\n",
    "# 3. Define the loss function  \n",
    "\n",
    "# 4. Define the accuracy \n",
    "\n",
    "# 5. Define an optimizer\n",
    "\n",
    "# initialize\n",
    "init = tf.initialize_all_variables()\n",
    "sess = tf.Session()\n",
    "sess.run(init)"
   ]
  },
  {
   "cell_type": "code",
   "execution_count": null,
   "metadata": {},
   "outputs": [],
   "source": []
  }
 ],
 "metadata": {
  "kernelspec": {
   "display_name": "Python 2",
   "language": "python",
   "name": "python2"
  },
  "language_info": {
   "codemirror_mode": {
    "name": "ipython",
    "version": 2
   },
   "file_extension": ".py",
   "mimetype": "text/x-python",
   "name": "python",
   "nbconvert_exporter": "python",
   "pygments_lexer": "ipython2",
   "version": "2.7.12"
  }
 },
 "nbformat": 4,
 "nbformat_minor": 2
}
